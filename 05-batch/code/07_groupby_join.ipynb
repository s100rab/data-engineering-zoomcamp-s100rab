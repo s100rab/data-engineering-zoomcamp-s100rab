{
 "cells": [
  {
   "cell_type": "code",
   "execution_count": 1,
   "id": "4341e0e6",
   "metadata": {},
   "outputs": [],
   "source": [
    "import pyspark\n",
    "from pyspark.sql import SparkSession\n",
    "\n",
    "spark = SparkSession.builder \\\n",
    "    .master(\"local[*]\") \\\n",
    "    .appName('groupby_join_app') \\\n",
    "    .getOrCreate()"
   ]
  },
  {
   "cell_type": "code",
   "execution_count": 2,
   "id": "cd304aec",
   "metadata": {},
   "outputs": [],
   "source": [
    "df_green = spark.read.parquet('e:/HCL_Technical_Lead/SIE_OSIV_HCL_TRAINING/PYTHON_DS_DE/Pgadmin_datatalks_sql_DATAPIPELINE/05-batch/data/pq/green/*/*')"
   ]
  },
  {
   "cell_type": "code",
   "execution_count": 3,
   "id": "243991f3",
   "metadata": {},
   "outputs": [
    {
     "name": "stderr",
     "output_type": "stream",
     "text": [
      "c:\\Users\\rajmi\\AppData\\Local\\Programs\\Python\\Python311\\Lib\\site-packages\\pyspark\\sql\\dataframe.py:329: FutureWarning: Deprecated in 2.0, use createOrReplaceTempView instead.\n",
      "  warnings.warn(\"Deprecated in 2.0, use createOrReplaceTempView instead.\", FutureWarning)\n"
     ]
    }
   ],
   "source": [
    "df_green.registerTempTable('green')"
   ]
  },
  {
   "cell_type": "code",
   "execution_count": 5,
   "id": "538693b3",
   "metadata": {},
   "outputs": [
    {
     "data": {
      "text/plain": [
       "['VendorID',\n",
       " 'lpep_pickup_datetime',\n",
       " 'lpep_dropoff_datetime',\n",
       " 'store_and_fwd_flag',\n",
       " 'RatecodeID',\n",
       " 'PULocationID',\n",
       " 'DOLocationID',\n",
       " 'passenger_count',\n",
       " 'trip_distance',\n",
       " 'fare_amount',\n",
       " 'extra',\n",
       " 'mta_tax',\n",
       " 'tip_amount',\n",
       " 'tolls_amount',\n",
       " 'ehail_fee',\n",
       " 'improvement_surcharge',\n",
       " 'total_amount',\n",
       " 'payment_type',\n",
       " 'trip_type',\n",
       " 'congestion_surcharge']"
      ]
     },
     "execution_count": 5,
     "metadata": {},
     "output_type": "execute_result"
    }
   ],
   "source": [
    "df_green.columns"
   ]
  },
  {
   "cell_type": "code",
   "execution_count": 7,
   "id": "e43764a7",
   "metadata": {},
   "outputs": [],
   "source": [
    "df_green_revenue = spark.sql(\"\"\"\n",
    "SELECT \n",
    "    date_trunc('hour', lpep_pickup_datetime) AS hour, \n",
    "    PULocationID AS zone,\n",
    "\n",
    "    SUM(total_amount) AS amount,\n",
    "    COUNT(1) AS number_records\n",
    "FROM\n",
    "    green\n",
    "WHERE\n",
    "    lpep_pickup_datetime >= '2020-01-01 00:00:00'\n",
    "GROUP BY\n",
    "    1, 2\n",
    "ORDER BY\n",
    "    1,2\n",
    "\"\"\")"
   ]
  },
  {
   "cell_type": "code",
   "execution_count": 8,
   "id": "0b03d219",
   "metadata": {},
   "outputs": [
    {
     "name": "stdout",
     "output_type": "stream",
     "text": [
      "+-------------------+----+------------------+--------------+\n",
      "|               hour|zone|            amount|number_records|\n",
      "+-------------------+----+------------------+--------------+\n",
      "|2020-01-01 00:00:00|   7| 769.7299999999994|            45|\n",
      "|2020-01-01 00:00:00|  17|            195.03|             9|\n",
      "|2020-01-01 00:00:00|  18|               7.8|             1|\n",
      "|2020-01-01 00:00:00|  22|              15.8|             1|\n",
      "|2020-01-01 00:00:00|  24|              87.6|             3|\n",
      "|2020-01-01 00:00:00|  25| 531.0000000000001|            26|\n",
      "|2020-01-01 00:00:00|  29|              61.3|             1|\n",
      "|2020-01-01 00:00:00|  32| 68.94999999999999|             2|\n",
      "|2020-01-01 00:00:00|  33|317.27000000000004|            11|\n",
      "|2020-01-01 00:00:00|  35|            129.96|             5|\n",
      "|2020-01-01 00:00:00|  36|295.34000000000003|            11|\n",
      "|2020-01-01 00:00:00|  37|            175.67|             6|\n",
      "|2020-01-01 00:00:00|  38| 98.78999999999999|             2|\n",
      "|2020-01-01 00:00:00|  40|168.98000000000002|             8|\n",
      "|2020-01-01 00:00:00|  41|1363.9599999999984|            84|\n",
      "|2020-01-01 00:00:00|  42| 799.7599999999996|            52|\n",
      "|2020-01-01 00:00:00|  43|            107.52|             6|\n",
      "|2020-01-01 00:00:00|  47|              13.3|             1|\n",
      "|2020-01-01 00:00:00|  49|266.76000000000005|            14|\n",
      "|2020-01-01 00:00:00|  51|              17.8|             2|\n",
      "+-------------------+----+------------------+--------------+\n",
      "only showing top 20 rows\n",
      "\n"
     ]
    }
   ],
   "source": [
    "df_green_revenue.show()"
   ]
  },
  {
   "cell_type": "code",
   "execution_count": 12,
   "id": "3e00310e",
   "metadata": {},
   "outputs": [],
   "source": [
    "df_green_revenue \\\n",
    "    .repartition(20) \\\n",
    "    .write.parquet('e:/HCL_Technical_Lead/SIE_OSIV_HCL_TRAINING/PYTHON_DS_DE/Pgadmin_datatalks_sql_DATAPIPELINE/05-batch/data/report/revenue/green', mode='overwrite')"
   ]
  },
  {
   "cell_type": "code",
   "execution_count": 9,
   "id": "07ebb68c",
   "metadata": {},
   "outputs": [
    {
     "name": "stderr",
     "output_type": "stream",
     "text": [
      "c:\\Users\\rajmi\\AppData\\Local\\Programs\\Python\\Python311\\Lib\\site-packages\\pyspark\\sql\\dataframe.py:329: FutureWarning: Deprecated in 2.0, use createOrReplaceTempView instead.\n",
      "  warnings.warn(\"Deprecated in 2.0, use createOrReplaceTempView instead.\", FutureWarning)\n"
     ]
    }
   ],
   "source": [
    "df_yellow = spark.read.parquet('e:/HCL_Technical_Lead/SIE_OSIV_HCL_TRAINING/PYTHON_DS_DE/Pgadmin_datatalks_sql_DATAPIPELINE/05-batch/data/pq/yellow/*/*')\n",
    "df_yellow.registerTempTable('yellow')"
   ]
  },
  {
   "cell_type": "code",
   "execution_count": 10,
   "id": "9d5be29d",
   "metadata": {},
   "outputs": [],
   "source": [
    "df_yellow_revenue = spark.sql(\"\"\"\n",
    "SELECT \n",
    "    date_trunc('hour', tpep_pickup_datetime) AS hour, \n",
    "    PULocationID AS zone,\n",
    "\n",
    "    SUM(total_amount) AS amount,\n",
    "    COUNT(1) AS number_records\n",
    "FROM\n",
    "    yellow\n",
    "WHERE\n",
    "    tpep_pickup_datetime >= '2020-01-01 00:00:00'\n",
    "GROUP BY\n",
    "    1, 2\n",
    "\"\"\")"
   ]
  },
  {
   "cell_type": "code",
   "execution_count": 11,
   "id": "8c343a5c",
   "metadata": {},
   "outputs": [
    {
     "name": "stdout",
     "output_type": "stream",
     "text": [
      "+-------------------+----+------------------+--------------+\n",
      "|               hour|zone|            amount|number_records|\n",
      "+-------------------+----+------------------+--------------+\n",
      "|2020-01-15 11:00:00| 236| 8469.040000000026|           580|\n",
      "|2020-01-13 19:00:00| 113| 2957.549999999998|           181|\n",
      "|2020-01-03 21:00:00| 234| 5557.640000000005|           359|\n",
      "|2020-01-11 00:00:00| 249| 8358.850000000017|           487|\n",
      "|2020-01-17 17:00:00| 164| 5719.780000000006|           343|\n",
      "|2020-01-04 04:00:00| 236|            201.16|            12|\n",
      "|2020-01-08 20:00:00| 144| 2384.079999999999|           133|\n",
      "|2020-01-21 16:00:00| 231| 4461.609999999999|           205|\n",
      "|2020-01-31 10:00:00|  68| 4479.939999999999|           256|\n",
      "|2020-01-06 14:00:00| 261|1979.7199999999993|            90|\n",
      "|2020-01-02 09:00:00|  48| 4532.439999999997|           260|\n",
      "|2020-01-21 12:00:00|  50|1343.7999999999997|            79|\n",
      "|2020-01-21 17:00:00| 107| 5509.840000000002|           314|\n",
      "|2020-01-29 16:00:00| 230| 8070.770000000013|           429|\n",
      "|2020-01-24 23:00:00|  48|10204.410000000029|           562|\n",
      "|2020-01-09 08:00:00| 170| 7107.570000000012|           478|\n",
      "|2020-01-02 20:00:00| 162| 5731.200000000004|           342|\n",
      "|2020-01-28 19:00:00| 237|12209.130000000043|           811|\n",
      "|2020-01-17 12:00:00| 138| 12331.16000000001|           293|\n",
      "|2020-01-28 14:00:00| 186| 5438.940000000001|           307|\n",
      "+-------------------+----+------------------+--------------+\n",
      "only showing top 20 rows\n",
      "\n"
     ]
    }
   ],
   "source": [
    "df_yellow_revenue.show()"
   ]
  },
  {
   "cell_type": "code",
   "execution_count": 13,
   "id": "8bd9264e",
   "metadata": {},
   "outputs": [],
   "source": [
    "df_yellow_revenue \\\n",
    "    .repartition(20) \\\n",
    "    .write.parquet('e:/HCL_Technical_Lead/SIE_OSIV_HCL_TRAINING/PYTHON_DS_DE/Pgadmin_datatalks_sql_DATAPIPELINE/05-batch/data/report/revenue/yellow', mode='overwrite')"
   ]
  },
  {
   "cell_type": "code",
   "execution_count": 2,
   "id": "fd5d74d7",
   "metadata": {},
   "outputs": [],
   "source": [
    "df_green_revenue = spark.read.parquet('e:/HCL_Technical_Lead/SIE_OSIV_HCL_TRAINING/PYTHON_DS_DE/Pgadmin_datatalks_sql_DATAPIPELINE/05-batch/data/report/revenue/green')\n",
    "df_yellow_revenue = spark.read.parquet('e:/HCL_Technical_Lead/SIE_OSIV_HCL_TRAINING/PYTHON_DS_DE/Pgadmin_datatalks_sql_DATAPIPELINE/05-batch/data/report/revenue/yellow')"
   ]
  },
  {
   "cell_type": "code",
   "execution_count": 3,
   "id": "35015ee6",
   "metadata": {},
   "outputs": [],
   "source": [
    "df_green_revenue_tmp = df_green_revenue \\\n",
    "    .withColumnRenamed('amount', 'green_amount') \\\n",
    "    .withColumnRenamed('number_records', 'green_number_records')\n",
    "\n",
    "df_yellow_revenue_tmp = df_yellow_revenue \\\n",
    "    .withColumnRenamed('amount', 'yellow_amount') \\\n",
    "    .withColumnRenamed('number_records', 'yellow_number_records')"
   ]
  },
  {
   "cell_type": "code",
   "execution_count": 4,
   "id": "ec9f34ea",
   "metadata": {},
   "outputs": [],
   "source": [
    "df_join = df_green_revenue_tmp.join(df_yellow_revenue_tmp, on=['hour', 'zone'], how='outer')"
   ]
  },
  {
   "cell_type": "code",
   "execution_count": 5,
   "id": "86a2f1e8",
   "metadata": {},
   "outputs": [
    {
     "name": "stdout",
     "output_type": "stream",
     "text": [
      "+-------------------+----+------------------+--------------------+------------------+---------------------+\n",
      "|               hour|zone|      green_amount|green_number_records|     yellow_amount|yellow_number_records|\n",
      "+-------------------+----+------------------+--------------------+------------------+---------------------+\n",
      "|2020-01-01 00:00:00|   4|              NULL|                NULL|1004.3000000000003|                   57|\n",
      "|2020-01-01 00:00:00|  10|              NULL|                NULL|             42.41|                    2|\n",
      "|2020-01-01 00:00:00|  14|              NULL|                NULL|               8.8|                    1|\n",
      "|2020-01-01 00:00:00|  15|              NULL|                NULL|             34.09|                    1|\n",
      "|2020-01-01 00:00:00|  22|              15.8|                   1|              NULL|                 NULL|\n",
      "|2020-01-01 00:00:00|  29|              61.3|                   1|              NULL|                 NULL|\n",
      "|2020-01-01 00:00:00|  45|              NULL|                NULL| 732.4800000000001|                   42|\n",
      "|2020-01-01 00:00:00|  48|              NULL|                NULL|10773.360000000024|                  455|\n",
      "|2020-01-01 00:00:00|  51|              17.8|                   2|              31.0|                    1|\n",
      "|2020-01-01 00:00:00|  52|             83.33|                   4|              49.8|                    2|\n",
      "|2020-01-01 00:00:00|  62|             15.95|                   1|             61.43|                    1|\n",
      "|2020-01-01 00:00:00|  66|386.75000000000006|                  18|            260.55|                   10|\n",
      "|2020-01-01 00:00:00|  72|             67.53|                   2|              NULL|                 NULL|\n",
      "|2020-01-01 00:00:00|  73|              NULL|                NULL|              17.3|                    1|\n",
      "|2020-01-01 00:00:00|  77| 75.99000000000001|                   2|            134.24|                    3|\n",
      "|2020-01-01 00:00:00|  80|            364.32|                  13|             371.4|                   20|\n",
      "|2020-01-01 00:00:00|  89|              11.3|                   1|             48.16|                    2|\n",
      "|2020-01-01 00:00:00|  95|202.20000000000005|                  15|               6.3|                    1|\n",
      "|2020-01-01 00:00:00| 112|            312.26|                  18|119.47999999999999|                    8|\n",
      "|2020-01-01 00:00:00| 116| 328.7600000000001|                  18| 561.5100000000001|                   34|\n",
      "+-------------------+----+------------------+--------------------+------------------+---------------------+\n",
      "only showing top 20 rows\n",
      "\n"
     ]
    }
   ],
   "source": [
    "df_join.show()"
   ]
  },
  {
   "cell_type": "code",
   "execution_count": 6,
   "id": "10238be7",
   "metadata": {},
   "outputs": [],
   "source": [
    "df_join.write.parquet('e:/HCL_Technical_Lead/SIE_OSIV_HCL_TRAINING/PYTHON_DS_DE/Pgadmin_datatalks_sql_DATAPIPELINE/05-batch/data/report/revenue/total', mode='overwrite')"
   ]
  },
  {
   "cell_type": "code",
   "execution_count": 8,
   "id": "c3af7169",
   "metadata": {},
   "outputs": [],
   "source": [
    "df_join = spark.read.parquet('e:/HCL_Technical_Lead/SIE_OSIV_HCL_TRAINING/PYTHON_DS_DE/Pgadmin_datatalks_sql_DATAPIPELINE/05-batch/data/report/revenue/total')"
   ]
  },
  {
   "cell_type": "code",
   "execution_count": 12,
   "id": "bc2a6680",
   "metadata": {},
   "outputs": [
    {
     "name": "stdout",
     "output_type": "stream",
     "text": [
      "+-------------------+----+------------------+--------------------+------------------+---------------------+\n",
      "|               hour|zone|      green_amount|green_number_records|     yellow_amount|yellow_number_records|\n",
      "+-------------------+----+------------------+--------------------+------------------+---------------------+\n",
      "|2020-01-01 00:00:00|  24|              87.6|                   3| 754.9500000000003|                   45|\n",
      "|2020-01-01 00:00:00|  25| 531.0000000000001|                  26|            324.35|                   16|\n",
      "|2020-01-01 00:00:00|  38| 98.78999999999999|                   2|              NULL|                 NULL|\n",
      "|2020-01-01 00:00:00|  40|168.98000000000002|                   8|             89.97|                    5|\n",
      "|2020-01-01 00:00:00|  47|              13.3|                   1|               8.3|                    1|\n",
      "|2020-01-01 00:00:00|  49|266.76000000000005|                  14|185.64999999999998|                   10|\n",
      "|2020-01-01 00:00:00|  50|              NULL|                NULL| 4177.479999999998|                  183|\n",
      "|2020-01-01 00:00:00|  61| 526.7099999999999|                  17|            146.64|                    3|\n",
      "|2020-01-01 00:00:00|  68|              NULL|                NULL| 7825.070000000011|                  396|\n",
      "|2020-01-01 00:00:00|  81|54.870000000000005|                   2|             30.32|                    1|\n",
      "|2020-01-01 00:00:00|  87|              NULL|                NULL| 2456.669999999999|                  112|\n",
      "|2020-01-01 00:00:00|  90|              NULL|                NULL| 5010.450000000001|                  266|\n",
      "|2020-01-01 00:00:00|  92|             80.72|                   3|              75.3|                    1|\n",
      "|2020-01-01 00:00:00|  93|              NULL|                NULL|210.28000000000003|                    3|\n",
      "|2020-01-01 00:00:00| 113|              NULL|                NULL| 3984.319999999998|                  220|\n",
      "|2020-01-01 00:00:00| 130|133.35000000000002|                   7|              NULL|                 NULL|\n",
      "|2020-01-01 00:00:00| 132|              NULL|                NULL| 6786.390000000005|                  139|\n",
      "|2020-01-01 00:00:00| 135|              NULL|                NULL|              18.3|                    1|\n",
      "|2020-01-01 00:00:00| 137|              NULL|                NULL|2791.4299999999985|                  172|\n",
      "|2020-01-01 00:00:00| 138|              NULL|                NULL|2745.8799999999997|                   72|\n",
      "+-------------------+----+------------------+--------------------+------------------+---------------------+\n",
      "only showing top 20 rows\n",
      "\n"
     ]
    }
   ],
   "source": [
    "df_join.show()"
   ]
  },
  {
   "cell_type": "code",
   "execution_count": 11,
   "id": "abb46398",
   "metadata": {},
   "outputs": [],
   "source": [
    "df_zones = spark.read.parquet('zones/')"
   ]
  },
  {
   "cell_type": "code",
   "execution_count": 13,
   "id": "ce6b535d",
   "metadata": {},
   "outputs": [
    {
     "name": "stdout",
     "output_type": "stream",
     "text": [
      "+----------+-------------+--------------------+------------+\n",
      "|LocationID|      Borough|                Zone|service_zone|\n",
      "+----------+-------------+--------------------+------------+\n",
      "|         1|          EWR|      Newark Airport|         EWR|\n",
      "|         2|       Queens|         Jamaica Bay|   Boro Zone|\n",
      "|         3|        Bronx|Allerton/Pelham G...|   Boro Zone|\n",
      "|         4|    Manhattan|       Alphabet City| Yellow Zone|\n",
      "|         5|Staten Island|       Arden Heights|   Boro Zone|\n",
      "|         6|Staten Island|Arrochar/Fort Wad...|   Boro Zone|\n",
      "|         7|       Queens|             Astoria|   Boro Zone|\n",
      "|         8|       Queens|        Astoria Park|   Boro Zone|\n",
      "|         9|       Queens|          Auburndale|   Boro Zone|\n",
      "|        10|       Queens|        Baisley Park|   Boro Zone|\n",
      "|        11|     Brooklyn|          Bath Beach|   Boro Zone|\n",
      "|        12|    Manhattan|        Battery Park| Yellow Zone|\n",
      "|        13|    Manhattan|   Battery Park City| Yellow Zone|\n",
      "|        14|     Brooklyn|           Bay Ridge|   Boro Zone|\n",
      "|        15|       Queens|Bay Terrace/Fort ...|   Boro Zone|\n",
      "|        16|       Queens|             Bayside|   Boro Zone|\n",
      "|        17|     Brooklyn|             Bedford|   Boro Zone|\n",
      "|        18|        Bronx|        Bedford Park|   Boro Zone|\n",
      "|        19|       Queens|           Bellerose|   Boro Zone|\n",
      "|        20|        Bronx|             Belmont|   Boro Zone|\n",
      "+----------+-------------+--------------------+------------+\n",
      "only showing top 20 rows\n",
      "\n"
     ]
    }
   ],
   "source": [
    "df_zones.show()"
   ]
  },
  {
   "cell_type": "code",
   "execution_count": 14,
   "id": "b3cf98a5",
   "metadata": {},
   "outputs": [],
   "source": [
    "df_result = df_join.join(df_zones, df_join.zone == df_zones.LocationID)"
   ]
  },
  {
   "cell_type": "code",
   "execution_count": 15,
   "id": "14d3cd96",
   "metadata": {},
   "outputs": [
    {
     "name": "stdout",
     "output_type": "stream",
     "text": [
      "+-------------------+----+------------------+--------------------+------------------+---------------------+----------+---------+--------------------+------------+\n",
      "|               hour|zone|      green_amount|green_number_records|     yellow_amount|yellow_number_records|LocationID|  Borough|                Zone|service_zone|\n",
      "+-------------------+----+------------------+--------------------+------------------+---------------------+----------+---------+--------------------+------------+\n",
      "|2020-01-01 00:00:00|  24|              87.6|                   3| 754.9500000000003|                   45|        24|Manhattan|        Bloomingdale| Yellow Zone|\n",
      "|2020-01-01 00:00:00|  25| 531.0000000000001|                  26|            324.35|                   16|        25| Brooklyn|         Boerum Hill|   Boro Zone|\n",
      "|2020-01-01 00:00:00|  38| 98.78999999999999|                   2|              NULL|                 NULL|        38|   Queens|     Cambria Heights|   Boro Zone|\n",
      "|2020-01-01 00:00:00|  40|168.98000000000002|                   8|             89.97|                    5|        40| Brooklyn|     Carroll Gardens|   Boro Zone|\n",
      "|2020-01-01 00:00:00|  47|              13.3|                   1|               8.3|                    1|        47|    Bronx|  Claremont/Bathgate|   Boro Zone|\n",
      "|2020-01-01 00:00:00|  49|266.76000000000005|                  14|185.64999999999998|                   10|        49| Brooklyn|        Clinton Hill|   Boro Zone|\n",
      "|2020-01-01 00:00:00|  50|              NULL|                NULL| 4177.479999999998|                  183|        50|Manhattan|        Clinton West| Yellow Zone|\n",
      "|2020-01-01 00:00:00|  61| 526.7099999999999|                  17|            146.64|                    3|        61| Brooklyn| Crown Heights North|   Boro Zone|\n",
      "|2020-01-01 00:00:00|  68|              NULL|                NULL| 7825.070000000011|                  396|        68|Manhattan|        East Chelsea| Yellow Zone|\n",
      "|2020-01-01 00:00:00|  81|54.870000000000005|                   2|             30.32|                    1|        81|    Bronx|         Eastchester|   Boro Zone|\n",
      "|2020-01-01 00:00:00|  87|              NULL|                NULL| 2456.669999999999|                  112|        87|Manhattan|Financial Distric...| Yellow Zone|\n",
      "|2020-01-01 00:00:00|  90|              NULL|                NULL| 5010.450000000001|                  266|        90|Manhattan|            Flatiron| Yellow Zone|\n",
      "|2020-01-01 00:00:00|  92|             80.72|                   3|              75.3|                    1|        92|   Queens|            Flushing|   Boro Zone|\n",
      "|2020-01-01 00:00:00|  93|              NULL|                NULL|210.28000000000003|                    3|        93|   Queens|Flushing Meadows-...|   Boro Zone|\n",
      "|2020-01-01 00:00:00| 113|              NULL|                NULL| 3984.319999999998|                  220|       113|Manhattan|Greenwich Village...| Yellow Zone|\n",
      "|2020-01-01 00:00:00| 130|133.35000000000002|                   7|              NULL|                 NULL|       130|   Queens|             Jamaica|   Boro Zone|\n",
      "|2020-01-01 00:00:00| 132|              NULL|                NULL| 6786.390000000005|                  139|       132|   Queens|         JFK Airport|    Airports|\n",
      "|2020-01-01 00:00:00| 135|              NULL|                NULL|              18.3|                    1|       135|   Queens|   Kew Gardens Hills|   Boro Zone|\n",
      "|2020-01-01 00:00:00| 137|              NULL|                NULL|2791.4299999999985|                  172|       137|Manhattan|            Kips Bay| Yellow Zone|\n",
      "|2020-01-01 00:00:00| 138|              NULL|                NULL|2745.8799999999997|                   72|       138|   Queens|   LaGuardia Airport|    Airports|\n",
      "+-------------------+----+------------------+--------------------+------------------+---------------------+----------+---------+--------------------+------------+\n",
      "only showing top 20 rows\n",
      "\n"
     ]
    }
   ],
   "source": [
    "df_result.show()"
   ]
  },
  {
   "cell_type": "code",
   "execution_count": 16,
   "id": "99251258",
   "metadata": {},
   "outputs": [
    {
     "name": "stdout",
     "output_type": "stream",
     "text": [
      "+-------------------+------------------+--------------------+------------------+---------------------+---------+------------+\n",
      "|               hour|      green_amount|green_number_records|     yellow_amount|yellow_number_records|  Borough|service_zone|\n",
      "+-------------------+------------------+--------------------+------------------+---------------------+---------+------------+\n",
      "|2020-01-01 00:00:00|              87.6|                   3| 754.9500000000003|                   45|Manhattan| Yellow Zone|\n",
      "|2020-01-01 00:00:00| 531.0000000000001|                  26|            324.35|                   16| Brooklyn|   Boro Zone|\n",
      "|2020-01-01 00:00:00| 98.78999999999999|                   2|              NULL|                 NULL|   Queens|   Boro Zone|\n",
      "|2020-01-01 00:00:00|168.98000000000002|                   8|             89.97|                    5| Brooklyn|   Boro Zone|\n",
      "|2020-01-01 00:00:00|              13.3|                   1|               8.3|                    1|    Bronx|   Boro Zone|\n",
      "|2020-01-01 00:00:00|266.76000000000005|                  14|185.64999999999998|                   10| Brooklyn|   Boro Zone|\n",
      "|2020-01-01 00:00:00|              NULL|                NULL| 4177.479999999998|                  183|Manhattan| Yellow Zone|\n",
      "|2020-01-01 00:00:00| 526.7099999999999|                  17|            146.64|                    3| Brooklyn|   Boro Zone|\n",
      "|2020-01-01 00:00:00|              NULL|                NULL| 7825.070000000011|                  396|Manhattan| Yellow Zone|\n",
      "|2020-01-01 00:00:00|54.870000000000005|                   2|             30.32|                    1|    Bronx|   Boro Zone|\n",
      "|2020-01-01 00:00:00|              NULL|                NULL| 2456.669999999999|                  112|Manhattan| Yellow Zone|\n",
      "|2020-01-01 00:00:00|              NULL|                NULL| 5010.450000000001|                  266|Manhattan| Yellow Zone|\n",
      "|2020-01-01 00:00:00|             80.72|                   3|              75.3|                    1|   Queens|   Boro Zone|\n",
      "|2020-01-01 00:00:00|              NULL|                NULL|210.28000000000003|                    3|   Queens|   Boro Zone|\n",
      "|2020-01-01 00:00:00|              NULL|                NULL| 3984.319999999998|                  220|Manhattan| Yellow Zone|\n",
      "|2020-01-01 00:00:00|133.35000000000002|                   7|              NULL|                 NULL|   Queens|   Boro Zone|\n",
      "|2020-01-01 00:00:00|              NULL|                NULL| 6786.390000000005|                  139|   Queens|    Airports|\n",
      "|2020-01-01 00:00:00|              NULL|                NULL|              18.3|                    1|   Queens|   Boro Zone|\n",
      "|2020-01-01 00:00:00|              NULL|                NULL|2791.4299999999985|                  172|Manhattan| Yellow Zone|\n",
      "|2020-01-01 00:00:00|              NULL|                NULL|2745.8799999999997|                   72|   Queens|    Airports|\n",
      "+-------------------+------------------+--------------------+------------------+---------------------+---------+------------+\n",
      "only showing top 20 rows\n",
      "\n"
     ]
    }
   ],
   "source": [
    "df_result.drop('LocationID', 'zone').show()"
   ]
  },
  {
   "cell_type": "code",
   "execution_count": 17,
   "id": "5e0614ba",
   "metadata": {},
   "outputs": [],
   "source": [
    "df_result.drop('LocationID', 'zone').write.parquet('tmp/revenue-zones')"
   ]
  },
  {
   "cell_type": "code",
   "execution_count": 18,
   "id": "9f5ca913",
   "metadata": {},
   "outputs": [],
   "source": [
    "spark.stop()\n"
   ]
  }
 ],
 "metadata": {
  "kernelspec": {
   "display_name": "Python 3 (ipykernel)",
   "language": "python",
   "name": "python3"
  },
  "language_info": {
   "codemirror_mode": {
    "name": "ipython",
    "version": 3
   },
   "file_extension": ".py",
   "mimetype": "text/x-python",
   "name": "python",
   "nbconvert_exporter": "python",
   "pygments_lexer": "ipython3",
   "version": "3.11.0"
  }
 },
 "nbformat": 4,
 "nbformat_minor": 5
}
