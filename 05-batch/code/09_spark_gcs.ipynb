{
 "cells": [
  {
   "cell_type": "code",
   "execution_count": null,
   "id": "27ca89f2",
   "metadata": {},
   "outputs": [],
   "source": [
    "# !pip install google-cloud-storage\n"
   ]
  },
  {
   "cell_type": "code",
   "execution_count": null,
   "id": "7f6b1a1b",
   "metadata": {},
   "outputs": [],
   "source": [
    "# import os\n",
    "# os.environ[\"GOOGLE_APPLICATION_CREDENTIALS\"] = \"E:\\\\HCL_Technical_Lead\\\\SIE_OSIV_HCL_TRAINING\\\\PYTHON_DS_DE\\\\Pgadmin_datatalks_sql_DATAPIPELINE\\\\01-docker-terraform\\\\1_terraform_gcp\\\\terraform\\\\keys\\\\mycred.json\"\n"
   ]
  },
  {
   "cell_type": "code",
   "execution_count": null,
   "id": "0948512d",
   "metadata": {},
   "outputs": [],
   "source": [
    "# from google.cloud import storage\n",
    "\n",
    "# def download_blob(bucket_name, source_blob_name, destination_file_name):\n",
    "#     \"\"\"Downloads a blob from the bucket.\"\"\"\n",
    "#     storage_client = storage.Client()\n",
    "#     bucket = storage_client.bucket(bucket_name)\n",
    "#     blob = bucket.blob(source_blob_name)\n",
    "\n",
    "#     blob.download_to_filename(destination_file_name)\n",
    "\n",
    "#     print(f\"Blob {source_blob_name} downloaded to {destination_file_name}.\")\n",
    "\n",
    "# # Set your GCS bucket name\n",
    "# bucket_name = \"hadoop-lib\"\n",
    "# # Set the name of the blob (the file) you want to download\n",
    "# blob_name = \"gcs/gcs-connector-hadoop3-2.2.5.jar\"\n",
    "# # Set the local file name where you want to save the downloaded file\n",
    "# local_file_name = \"gcs-connector-hadoop3-2.2.5.jar\"\n",
    "\n",
    "# download_blob(bucket_name, blob_name, local_file_name)\n"
   ]
  },
  {
   "cell_type": "code",
   "execution_count": null,
   "id": "debc24b8",
   "metadata": {},
   "outputs": [],
   "source": [
    "spark.stop()"
   ]
  },
  {
   "cell_type": "code",
   "execution_count": 1,
   "id": "3307b886",
   "metadata": {},
   "outputs": [],
   "source": [
    "import pyspark\n",
    "from pyspark.sql import SparkSession\n",
    "from pyspark.conf import SparkConf\n",
    "from pyspark.context import SparkContext"
   ]
  },
  {
   "cell_type": "code",
   "execution_count": 2,
   "id": "9f0ddbff",
   "metadata": {},
   "outputs": [],
   "source": [
    "credentials_location = 'E:\\\\HCL_Technical_Lead\\\\SIE_OSIV_HCL_TRAINING\\\\PYTHON_DS_DE\\\\Pgadmin_datatalks_sql_DATAPIPELINE\\\\01-docker-terraform\\\\1_terraform_gcp\\\\terraform\\\\keys\\\\mycred.json'\n"
   ]
  },
  {
   "cell_type": "code",
   "execution_count": 3,
   "id": "27f299d2",
   "metadata": {},
   "outputs": [],
   "source": [
    "\n",
    "conf = SparkConf() \\\n",
    "    .setMaster('local[*]') \\\n",
    "    .setAppName('GCP_CONNECTION') \\\n",
    "    .set(\"spark.jars\",\"E:\\\\HCL_Technical_Lead\\\\SIE_OSIV_HCL_TRAINING\\\\PYTHON_DS_DE\\\\Pgadmin_datatalks_sql_DATAPIPELINE\\\\05-batch\\\\code\\\\gcs-connector-hadoop3-2.2.5.jar\") \\\n",
    "    .set(\"spark.hadoop.google.cloud.auth.service.account.enable\", \"true\") \\\n",
    "    .set(\"spark.hadoop.google.cloud.auth.service.account.json.keyfile\", credentials_location)"
   ]
  },
  {
   "cell_type": "code",
   "execution_count": 4,
   "id": "b83404e8",
   "metadata": {},
   "outputs": [],
   "source": [
    "sc = SparkContext(conf=conf)\n",
    "\n",
    "hadoop_conf = sc._jsc.hadoopConfiguration()\n",
    "\n",
    "hadoop_conf.set(\"fs.AbstractFileSystem.gs.impl\",\"com.google.cloud.hadoop.fs.gcs.GoogleHadoopFS\")\n",
    "hadoop_conf.set(\"fs.gs.impl\", \"com.google.cloud.hadoop.fs.gcs.GoogleHadoopFileSystem\")\n",
    "hadoop_conf.set(\"fs.gs.auth.service.account.json.keyfile\", credentials_location)\n",
    "hadoop_conf.set(\"fs.gs.auth.service.account.enable\", \"true\")"
   ]
  },
  {
   "cell_type": "code",
   "execution_count": 5,
   "id": "c4713e2b",
   "metadata": {},
   "outputs": [],
   "source": [
    "spark = SparkSession.builder \\\n",
    "    .config(conf=sc.getConf()) \\\n",
    "    .getOrCreate()"
   ]
  },
  {
   "cell_type": "code",
   "execution_count": 6,
   "id": "1ee1eb1d",
   "metadata": {},
   "outputs": [],
   "source": [
    "df_green = spark.read.parquet('gs://terraform_gcs_dataset_s100rab_16042024/pq/green/*/*')"
   ]
  },
  {
   "cell_type": "code",
   "execution_count": 7,
   "id": "104b40ab",
   "metadata": {},
   "outputs": [
    {
     "data": {
      "text/plain": [
       "2304517"
      ]
     },
     "execution_count": 7,
     "metadata": {},
     "output_type": "execute_result"
    }
   ],
   "source": [
    "df_green.count()"
   ]
  },
  {
   "cell_type": "code",
   "execution_count": 8,
   "id": "f56a885d",
   "metadata": {},
   "outputs": [],
   "source": [
    "spark.stop()"
   ]
  }
 ],
 "metadata": {
  "kernelspec": {
   "display_name": "Python 3 (ipykernel)",
   "language": "python",
   "name": "python3"
  },
  "language_info": {
   "codemirror_mode": {
    "name": "ipython",
    "version": 3
   },
   "file_extension": ".py",
   "mimetype": "text/x-python",
   "name": "python",
   "nbconvert_exporter": "python",
   "pygments_lexer": "ipython3",
   "version": "3.11.0"
  }
 },
 "nbformat": 4,
 "nbformat_minor": 5
}
